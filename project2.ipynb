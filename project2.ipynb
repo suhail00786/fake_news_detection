{
 "cells": [
  {
   "cell_type": "code",
   "execution_count": null,
   "id": "e906e6ef",
   "metadata": {},
   "outputs": [],
   "source": [
    "import pandas as pd \n",
    "import numpy as np"
   ]
  },
  {
   "cell_type": "code",
   "execution_count": null,
   "id": "6971f6d6",
   "metadata": {},
   "outputs": [],
   "source": [
    "fake_news = pd.read_csv('Fake.csv')\n",
    "true_news = pd.read_csv('True.csv')"
   ]
  },
  {
   "cell_type": "code",
   "execution_count": null,
   "id": "22347174",
   "metadata": {},
   "outputs": [],
   "source": [
    "fake_news['label']= 0"
   ]
  },
  {
   "cell_type": "code",
   "execution_count": null,
   "id": "7ca2a39b",
   "metadata": {},
   "outputs": [],
   "source": [
    "true_news['label']=1\n"
   ]
  },
  {
   "cell_type": "code",
   "execution_count": null,
   "id": "b4956378",
   "metadata": {},
   "outputs": [],
   "source": [
    "dataset1 =fake_news[['text','label']]\n",
    "dataset2 = true_news[['text','label']]"
   ]
  },
  {
   "cell_type": "code",
   "execution_count": null,
   "id": "e8a4fac3",
   "metadata": {},
   "outputs": [],
   "source": [
    "dataset1"
   ]
  },
  {
   "cell_type": "code",
   "execution_count": null,
   "id": "251e5e65",
   "metadata": {},
   "outputs": [],
   "source": [
    "dataset2"
   ]
  },
  {
   "cell_type": "code",
   "execution_count": null,
   "id": "fc6281c5",
   "metadata": {},
   "outputs": [],
   "source": [
    "dataset = pd.concat([dataset1,dataset2])"
   ]
  },
  {
   "cell_type": "code",
   "execution_count": null,
   "id": "078aa1b2",
   "metadata": {},
   "outputs": [],
   "source": [
    "dataset"
   ]
  },
  {
   "cell_type": "code",
   "execution_count": null,
   "id": "e66ac980",
   "metadata": {},
   "outputs": [],
   "source": [
    "dataset = dataset.sample(frac=1)"
   ]
  },
  {
   "cell_type": "code",
   "execution_count": null,
   "id": "c582e08c",
   "metadata": {},
   "outputs": [],
   "source": [
    "dataset"
   ]
  },
  {
   "cell_type": "code",
   "execution_count": null,
   "id": "93141d1d",
   "metadata": {},
   "outputs": [],
   "source": [
    "dataset.shape"
   ]
  },
  {
   "cell_type": "code",
   "execution_count": null,
   "id": "070455ad",
   "metadata": {},
   "outputs": [],
   "source": [
    "dataset.isnull().sum()"
   ]
  },
  {
   "cell_type": "code",
   "execution_count": null,
   "id": "89ed3c39",
   "metadata": {},
   "outputs": [],
   "source": [
    "dataset['label'].value_counts()"
   ]
  },
  {
   "cell_type": "markdown",
   "id": "85d1d6d0",
   "metadata": {},
   "source": [
    "# NLP"
   ]
  },
  {
   "cell_type": "code",
   "execution_count": null,
   "id": "f7df7319",
   "metadata": {},
   "outputs": [],
   "source": [
    "import nltk\n",
    "import re\n",
    "from nltk.corpus import stopwords\n",
    "from nltk.stem import WordNetLemmatizer"
   ]
  },
  {
   "cell_type": "code",
   "execution_count": null,
   "id": "72879d92",
   "metadata": {},
   "outputs": [],
   "source": [
    "ps = WordNetLemmatizer()\n"
   ]
  },
  {
   "cell_type": "code",
   "execution_count": null,
   "id": "46d0ef10",
   "metadata": {},
   "outputs": [],
   "source": [
    "nltk.download('wordnet')"
   ]
  },
  {
   "cell_type": "code",
   "execution_count": null,
   "id": "ec0c77f8",
   "metadata": {},
   "outputs": [],
   "source": [
    "stopwords = stopwords.words('english')"
   ]
  },
  {
   "cell_type": "code",
   "execution_count": null,
   "id": "f32e1135",
   "metadata": {},
   "outputs": [],
   "source": [
    "def clean_row(row):\n",
    "    row = row.lower()\n",
    "    row = re.sub('[^a-zA-z]',' ',row)\n",
    "    token = row.split()\n",
    "    news = [ps.lemmatize(word) for word in token if not word in stopwords]\n",
    "    cleaned_news = ' '.join(news)\n",
    "    return cleaned_news\n"
   ]
  },
  {
   "cell_type": "code",
   "execution_count": null,
   "id": "69bf032b",
   "metadata": {},
   "outputs": [],
   "source": [
    "dataset['text']=dataset['text'].apply(lambda x: clean_row(x))"
   ]
  },
  {
   "cell_type": "code",
   "execution_count": null,
   "id": "e8fbf6a1",
   "metadata": {},
   "outputs": [],
   "source": [
    "dataset"
   ]
  },
  {
   "cell_type": "code",
   "execution_count": null,
   "id": "f199ac91",
   "metadata": {},
   "outputs": [],
   "source": [
    "from sklearn.feature_extraction.text import TfidfVectorizer"
   ]
  },
  {
   "cell_type": "code",
   "execution_count": null,
   "id": "f31a9312",
   "metadata": {},
   "outputs": [],
   "source": [
    "vectorizer= TfidfVectorizer(max_features=500,lowercase=False,ngram_range=(1,2))\n"
   ]
  },
  {
   "cell_type": "code",
   "execution_count": null,
   "id": "fdc76025-1a34-4ae5-b4a1-3e13159f3def",
   "metadata": {},
   "outputs": [],
   "source": [
    "x = dataset.iloc[:35000,0]\n",
    "y = dataset.iloc[:35000,1]"
   ]
  },
  {
   "cell_type": "code",
   "execution_count": null,
   "id": "8eb5962a-867f-4f00-9b81-de76f27a6088",
   "metadata": {},
   "outputs": [],
   "source": [
    "from sklearn.model_selection  import train_test_split"
   ]
  },
  {
   "cell_type": "code",
   "execution_count": null,
   "id": "70f80c06-d4ba-438c-b446-1c4b7816ba27",
   "metadata": {},
   "outputs": [],
   "source": [
    "train_data,test_data,train_label,test_label=train_test_split(x,y,test_size=0.2,random_state=0)"
   ]
  },
  {
   "cell_type": "code",
   "execution_count": null,
   "id": "eccc77ea-cbfe-47e5-8a59-8ba03db0d7b8",
   "metadata": {},
   "outputs": [],
   "source": [
    "vec_train_data= vectorizer.fit_transform(train_data)"
   ]
  },
  {
   "cell_type": "code",
   "execution_count": null,
   "id": "91c81c0c-9f33-4531-b7bb-403644934b2f",
   "metadata": {},
   "outputs": [],
   "source": [
    "vec_train_data=vec_train_data.toarray()\n",
    "vec_train_data"
   ]
  },
  {
   "cell_type": "code",
   "execution_count": null,
   "id": "66bbda1e-b9a0-4ce8-b230-99419b11042e",
   "metadata": {},
   "outputs": [],
   "source": [
    "vec_test_data= vectorizer.fit_transform(test_data)"
   ]
  },
  {
   "cell_type": "code",
   "execution_count": null,
   "id": "2b13ed4b-4144-4d86-9348-02364506078b",
   "metadata": {},
   "outputs": [],
   "source": [
    "vec_test_data=vec_test_data.toarray()"
   ]
  },
  {
   "cell_type": "code",
   "execution_count": null,
   "id": "669d8967-8e16-434b-933f-532cfbb3e322",
   "metadata": {},
   "outputs": [],
   "source": [
    "train_data = pd.DataFrame(vec_train_data,columns=vectorizer.get_feature_names_out())\n"
   ]
  },
  {
   "cell_type": "code",
   "execution_count": null,
   "id": "70d5f72f-2dc2-482d-ad97-4d07facd4549",
   "metadata": {},
   "outputs": [],
   "source": [
    "test_data = pd.DataFrame(vec_test_data,columns=vectorizer.get_feature_names_out())"
   ]
  },
  {
   "cell_type": "code",
   "execution_count": null,
   "id": "6f5b3a76-e94c-4569-8ab7-3dc73a1248c0",
   "metadata": {},
   "outputs": [],
   "source": [
    "test_data"
   ]
  },
  {
   "cell_type": "code",
   "execution_count": null,
   "id": "bd1890d8-cfb9-4274-9a66-1c39d8683a63",
   "metadata": {},
   "outputs": [],
   "source": [
    "#naive  bias\n"
   ]
  },
  {
   "cell_type": "code",
   "execution_count": null,
   "id": "3faef766-9dda-495e-9c09-f78cef5ecb71",
   "metadata": {},
   "outputs": [],
   "source": [
    "from sklearn.naive_bayes import MultinomialNB\n",
    "clf = MultinomialNB()"
   ]
  },
  {
   "cell_type": "code",
   "execution_count": null,
   "id": "57073d1e-a6cb-4d46-868a-b6516a74fe93",
   "metadata": {},
   "outputs": [],
   "source": [
    "clf.fit(train_data,train_label)"
   ]
  },
  {
   "cell_type": "code",
   "execution_count": null,
   "id": "98a9e7e4-d15e-4faa-96c5-d790a4a786a4",
   "metadata": {},
   "outputs": [],
   "source": [
    "y_pred = clf.predict(test_data)"
   ]
  },
  {
   "cell_type": "code",
   "execution_count": null,
   "id": "388c542d-3f48-42db-9c6f-5c61b65346d5",
   "metadata": {},
   "outputs": [],
   "source": [
    "from sklearn.metrics import accuracy_score"
   ]
  },
  {
   "cell_type": "code",
   "execution_count": null,
   "id": "54ebdeb5-f01c-4bb7-9742-e419fe93b3f2",
   "metadata": {},
   "outputs": [],
   "source": [
    "accuracy_score(test_label,y_pred)\n"
   ]
  },
  {
   "cell_type": "code",
   "execution_count": null,
   "id": "5fe13eb3-6ebb-4992-b117-a29e022527b4",
   "metadata": {},
   "outputs": [],
   "source": [
    "y_pred_train = clf.predict(train_data)\n",
    "accuracy_score(train_label,y_pred_train)"
   ]
  },
  {
   "cell_type": "code",
   "execution_count": null,
   "id": "627a3507-4047-4e5a-9c57-e9423c003d41",
   "metadata": {},
   "outputs": [],
   "source": [
    "txt = 'donald trump killed president of india'\n",
    "nnn = clean_row(txt)"
   ]
  },
  {
   "cell_type": "code",
   "execution_count": null,
   "id": "c7213252-1caa-44c1-8564-a70d0611f635",
   "metadata": {},
   "outputs": [],
   "source": [
    "nnn"
   ]
  },
  {
   "cell_type": "code",
   "execution_count": null,
   "id": "38e2838b-deb5-4e4b-bd24-99f5fbc63950",
   "metadata": {},
   "outputs": [],
   "source": [
    "predd= clf.predict(vectorizer.transform([nnn]).toarray())"
   ]
  },
  {
   "cell_type": "code",
   "execution_count": null,
   "id": "0499d819-c213-4035-887e-e2fbe9509a71",
   "metadata": {},
   "outputs": [],
   "source": [
    "predd"
   ]
  },
  {
   "cell_type": "code",
   "execution_count": null,
   "id": "cf63170f-1e0d-487c-9ef4-0456fbbaa586",
   "metadata": {},
   "outputs": [],
   "source": []
  }
 ],
 "metadata": {
  "kernelspec": {
   "display_name": "Python 3 (ipykernel)",
   "language": "python",
   "name": "python3"
  },
  "language_info": {
   "codemirror_mode": {
    "name": "ipython",
    "version": 3
   },
   "file_extension": ".py",
   "mimetype": "text/x-python",
   "name": "python",
   "nbconvert_exporter": "python",
   "pygments_lexer": "ipython3",
   "version": "3.11.2"
  }
 },
 "nbformat": 4,
 "nbformat_minor": 5
}
